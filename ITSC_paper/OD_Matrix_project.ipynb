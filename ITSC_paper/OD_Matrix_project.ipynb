{
 "cells": [
  {
   "cell_type": "code",
   "execution_count": 15,
   "id": "8672f8f0",
   "metadata": {},
   "outputs": [],
   "source": [
    "import traci\n",
    "import os, sys\n",
    "import sumolib\n",
    "import pandas as pd\n",
    "\n",
    "import xml.etree.ElementTree as ET\n"
   ]
  },
  {
   "cell_type": "code",
   "execution_count": 2,
   "id": "ca0fd993",
   "metadata": {},
   "outputs": [],
   "source": [
    "if 'SUMO_HOME' in os.environ:\n",
    "    tools = os.path.join(os.environ['SUMO_HOME'], 'tools')\n",
    "    sys.path.append(tools)\n",
    "else:   \n",
    "    sys.exit(\"please declare environment variable 'SUMO_HOME'\")"
   ]
  },
  {
   "cell_type": "code",
   "execution_count": 3,
   "id": "333e373c",
   "metadata": {},
   "outputs": [],
   "source": [
    "# parse the net\n",
    "net = sumolib.net.readNet('Chattanooga_SUMO_Network.net.xml')"
   ]
  },
  {
   "cell_type": "code",
   "execution_count": 8,
   "id": "f16a57d5",
   "metadata": {},
   "outputs": [],
   "source": [
    "# Connect to SUMO  \n",
    "\n",
    "traci.start([\"sumo\", \"-n\", \"Chattanooga_SUMO_Network.net.xml\"])\n",
    "\n",
    "#Get geographic coordinates of bus stops\n",
    "\n",
    "Stops = pd.read_excel('odMatrix.xlsx',sheet_name = \"odMatrix\").copy()\n",
    "Pickup_LAT = Stops['pickup_lat']\n",
    "Pickup_LON = Stops['pickup_lon']\n",
    "\n",
    "#Convert geographic coordinates to position info (edge ID, lane position and lane index)\n",
    "def get_edge(lon, lat):\n",
    "    edgeID, lanePosition, laneIndex = traci.simulation.convertRoad(lon,lat, True)\n",
    "    return edgeID, lanePosition, laneIndex\n",
    "\n",
    "edgeinf =[]\n",
    "for i in range(len(Pickup_LAT)):\n",
    "    edgeinf.append(get_edge(Pickup_LON[i],Pickup_LAT[i]))\n",
    "# Write to     \n",
    "df = pd.DataFrame(edgeinf, columns=['edgeID', 'lanepos', 'laneind'])\n",
    "df.to_excel(r'origin.xlsx', index = False)\n",
    "traci.close()"
   ]
  },
  {
   "cell_type": "code",
   "execution_count": 10,
   "id": "65169507",
   "metadata": {},
   "outputs": [],
   "source": [
    "# Connect to SUMO  \n",
    "\n",
    "traci.start([\"sumo\", \"-n\", \"Chattanooga_SUMO_Network.net.xml\"])\n",
    "\n",
    "#Get geographic coordinates of bus stops\n",
    "\n",
    "Stops = pd.read_excel('odMatrix.xlsx',sheet_name = \"odMatrix\").copy()\n",
    "Pickup_LAT = Stops['dropoff_lat']\n",
    "Pickup_LON = Stops['dropoff_lon']\n",
    "\n",
    "#Convert geographic coordinates to position info (edge ID, lane position and lane index)\n",
    "def get_edge(lon, lat):\n",
    "    edgeID, lanePosition, laneIndex = traci.simulation.convertRoad(lon,lat, True)\n",
    "    return edgeID, lanePosition, laneIndex\n",
    "\n",
    "edgeinf =[]\n",
    "for i in range(len(Pickup_LAT)):\n",
    "    edgeinf.append(get_edge(Pickup_LON[i],Pickup_LAT[i]))\n",
    "# Write to     \n",
    "df = pd.DataFrame(edgeinf, columns=['edgeID', 'lanepos', 'laneind'])\n",
    "df.to_excel(r'destination.xlsx', index = False)\n",
    "traci.close()"
   ]
  },
  {
   "cell_type": "code",
   "execution_count": 19,
   "id": "f4c2176c",
   "metadata": {},
   "outputs": [],
   "source": [
    "\n",
    "# Read the Excel file into a pandas DataFrame\n",
    "df = pd.read_excel('odMatrix.xlsx')\n",
    "\n",
    "# Create the root element of the XML tree\n",
    "root = ET.Element(\"routes\", attrib={\"xmlns:xsi\": \"http://www.w3.org/2001/XMLSchema-instance\",\n",
    "                                   \"xsi:noNamespaceSchemaLocation\": \"http://sumo.dlr.de/xsd/routes_file.xsd\"})\n",
    "\n",
    "# Iterate over the rows in the DataFrame\n",
    "for index, row in df.iterrows():\n",
    "    # Create a trip element for each row\n",
    "    trip = ET.SubElement(root, \"trip\", attrib={\"id\": \"t{}\".format(index+1),\n",
    "                                               \"depart\": str(row['pickup_time_secs']),\n",
    "                                               \"from\": str(row['O_edgeID']),\n",
    "                                               \"to\": str(row['D_edgeID']),\n",
    "                                               \"type\": \"passenger\",\n",
    "                                               \"departLane\": \"best\",\n",
    "                                               \"departPos\": \"free\",\n",
    "                                               \"departSpeed\": \"max\"})\n",
    "    \n",
    "    # Add indentation before the trip element\n",
    "    trip.text = \"\\n\" + \" \" * 3\n",
    "\n",
    "# Create the XML tree\n",
    "tree = ET.ElementTree(root)\n",
    "\n",
    "# Set the indent level to 3 spaces\n",
    "ET.indent(tree, space=\" \", level=3)\n",
    "\n",
    "# Write the XML tree to a file\n",
    "tree.write(\"output.xml\", encoding=\"utf-8\", xml_declaration=True)\n",
    "\n",
    "\n"
   ]
  },
  {
   "cell_type": "markdown",
   "id": "66848358",
   "metadata": {},
   "source": [
    "duarouter --route-files trips.xml -n  Chattanooga_SUMO_Network.net.xml --unsorted-input  --ptline-routing --output-file trip.rou.xml --ignore-errors"
   ]
  },
  {
   "cell_type": "markdown",
   "id": "dbeb39f4",
   "metadata": {},
   "source": [
    "DUA"
   ]
  },
  {
   "cell_type": "markdown",
   "id": "3ebc5950",
   "metadata": {},
   "source": [
    "python3 duaIterate.py --net-file Chattanooga_SUMO_Network.net.xml -t trip.rou.xml -l 2 -C -m   -E -L --time-to-teleport 50 --clean-alt "
   ]
  },
  {
   "cell_type": "code",
   "execution_count": null,
   "id": "b815391f",
   "metadata": {},
   "outputs": [],
   "source": []
  }
 ],
 "metadata": {
  "kernelspec": {
   "display_name": "Python 3 (ipykernel)",
   "language": "python",
   "name": "python3"
  },
  "language_info": {
   "codemirror_mode": {
    "name": "ipython",
    "version": 3
   },
   "file_extension": ".py",
   "mimetype": "text/x-python",
   "name": "python",
   "nbconvert_exporter": "python",
   "pygments_lexer": "ipython3",
   "version": "3.9.16"
  }
 },
 "nbformat": 4,
 "nbformat_minor": 5
}
