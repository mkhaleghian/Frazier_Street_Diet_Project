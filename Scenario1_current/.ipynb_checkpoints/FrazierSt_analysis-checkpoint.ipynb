{
 "cells": [
  {
   "cell_type": "code",
   "execution_count": null,
   "id": "9215fe0d-0473-4727-9dab-3dbae75e1221",
   "metadata": {},
   "outputs": [],
   "source": [
    "#!pip install sumolib traci"
   ]
  },
  {
   "cell_type": "code",
   "execution_count": 2,
   "id": "ebe79431-01a4-47f0-81bd-d9920a27d8b9",
   "metadata": {},
   "outputs": [],
   "source": [
    "import os\n",
    "import sys\n",
    "if 'SUMO_HOME' in os.environ:\n",
    "    sys.path.append(os.path.join(os.environ['SUMO_HOME'], 'tools'))\n",
    "import traci\n"
   ]
  },
  {
   "cell_type": "code",
   "execution_count": 3,
   "id": "e7e248b6-c9f6-439a-a700-373ccfe7d1cb",
   "metadata": {},
   "outputs": [
    {
     "ename": "FatalTraCIError",
     "evalue": "Not connected.",
     "output_type": "error",
     "traceback": [
      "\u001b[0;31m---------------------------------------------------------------------------\u001b[0m",
      "\u001b[0;31mFatalTraCIError\u001b[0m                           Traceback (most recent call last)",
      "Cell \u001b[0;32mIn[3], line 1\u001b[0m\n\u001b[0;32m----> 1\u001b[0m \u001b[43mtraci\u001b[49m\u001b[38;5;241;43m.\u001b[39;49m\u001b[43mclose\u001b[49m\u001b[43m(\u001b[49m\u001b[43m)\u001b[49m\n",
      "File \u001b[0;32m~/.local/lib/python3.10/site-packages/traci/main.py:262\u001b[0m, in \u001b[0;36mclose\u001b[0;34m(wait)\u001b[0m\n\u001b[1;32m    258\u001b[0m \u001b[38;5;28;01mdef\u001b[39;00m \u001b[38;5;21mclose\u001b[39m(wait\u001b[38;5;241m=\u001b[39m\u001b[38;5;28;01mTrue\u001b[39;00m):\n\u001b[1;32m    259\u001b[0m \u001b[38;5;250m    \u001b[39m\u001b[38;5;124;03m\"\"\"\u001b[39;00m\n\u001b[1;32m    260\u001b[0m \u001b[38;5;124;03m    Tells TraCI to close the connection.\u001b[39;00m\n\u001b[1;32m    261\u001b[0m \u001b[38;5;124;03m    \"\"\"\u001b[39;00m\n\u001b[0;32m--> 262\u001b[0m     \u001b[43mconnection\u001b[49m\u001b[38;5;241;43m.\u001b[39;49m\u001b[43mcheck\u001b[49m\u001b[43m(\u001b[49m\u001b[43m)\u001b[49m\u001b[38;5;241m.\u001b[39mclose(wait)\n",
      "File \u001b[0;32m~/.local/lib/python3.10/site-packages/traci/connection.py:45\u001b[0m, in \u001b[0;36mcheck\u001b[0;34m()\u001b[0m\n\u001b[1;32m     43\u001b[0m \u001b[38;5;28;01mdef\u001b[39;00m \u001b[38;5;21mcheck\u001b[39m():\n\u001b[1;32m     44\u001b[0m     \u001b[38;5;28;01mif\u001b[39;00m \u001b[38;5;124m\"\u001b[39m\u001b[38;5;124m\"\u001b[39m \u001b[38;5;129;01mnot\u001b[39;00m \u001b[38;5;129;01min\u001b[39;00m _connections:\n\u001b[0;32m---> 45\u001b[0m         \u001b[38;5;28;01mraise\u001b[39;00m FatalTraCIError(\u001b[38;5;124m\"\u001b[39m\u001b[38;5;124mNot connected.\u001b[39m\u001b[38;5;124m\"\u001b[39m)\n\u001b[1;32m     46\u001b[0m     \u001b[38;5;28;01mreturn\u001b[39;00m _connections[\u001b[38;5;124m\"\u001b[39m\u001b[38;5;124m\"\u001b[39m]\n",
      "\u001b[0;31mFatalTraCIError\u001b[0m: Not connected."
     ]
    }
   ],
   "source": [
    "traci.close()"
   ]
  },
  {
   "cell_type": "code",
   "execution_count": 12,
   "id": "6ba84fdc-882f-4ac9-9691-2ba07e5ec85d",
   "metadata": {},
   "outputs": [
    {
     "name": "stdout",
     "output_type": "stream",
     "text": [
      " Retrying in 1 seconds\n",
      "Step #30000.00 (0ms ?*RT. ?UPS, TraCI: 1ms, vehicles TOT 16296 ACT 0 BUF 0)               tep #4500.00 (1ms ~= 1000.00*RT, ~92000.00UPS, TraCI: 2ms, vehicles TOT 3459 ACT 92 BUF 5ep #9000.00 (3ms ~= 333.33*RT, ~73666.67UPS, TraCI: 1ms, vehicles TOT 6778 ACT 221 BUF 7p #13500.00 (1ms ~= 1000.00*RT, ~93000.00UPS, TraCI: 1ms, vehicles TOT 10019 ACT 93 BUF #18000.00 (1ms ~= 1000.00*RT, ~76000.00UPS, TraCI: 1ms, vehicles TOT 12629 ACT 76 BUF#22500.00 (0ms ?*RT. ?UPS, TraCI: 1ms, vehicles TOT 14948 ACT 24 BUF 1348)           27000.00 (0ms ?*RT. ?UPS, TraCI: 1ms, vehicles TOT 16296 ACT 0 BUF 0)               \n",
      "Number of unique vehicles passing through lane '9039_0' after simulation: 164\n",
      "Number of unique vehicles passing through lane '-9045_1' after simulation: 5289\n",
      "Number of unique vehicles passing through lane '-9045_0' after simulation: 4305\n",
      "Number of unique vehicles passing through lane '9044_0' after simulation: 31\n",
      "Number of unique vehicles passing through lane '-9044_0' after simulation: 993\n",
      "Number of unique vehicles passing through lane '-9052_0' after simulation: 4524\n",
      "Number of unique vehicles passing through lane '-9052_1' after simulation: 5223\n",
      "Number of unique vehicles passing through lane '9045_0' after simulation: 3158\n",
      "Number of unique vehicles passing through lane '9045_1' after simulation: 2502\n"
     ]
    }
   ],
   "source": [
    "import traci\n",
    "\n",
    "traci.start([\"sumo\", \"-c\", \"~/Documents/frizer_street/SUMO_configuration.sumocfg\"])\n",
    "\n",
    "# Lanes to monitor\n",
    "lanes_to_monitor = [\"9039_0\", \"-9045_1\", \"-9045_0\", \"9044_0\", \"-9044_0\",\"-9052_0\",\"-9052_1\",\"9045_0\",\"9045_1\"]\n",
    "\n",
    "# Dictionary to hold unique vehicle IDs passing through each lane\n",
    "unique_vehicle_ids_passed = {lane: set() for lane in lanes_to_monitor}\n",
    "\n",
    "# Simulation loop\n",
    "step = 0\n",
    "while step < 30000:\n",
    "    traci.simulationStep()\n",
    "\n",
    "    for lane in lanes_to_monitor:\n",
    "        vehicles = traci.lane.getLastStepVehicleIDs(lane)\n",
    "        unique_vehicle_ids_passed[lane].update(vehicles)\n",
    "\n",
    "    step += 1\n",
    "\n",
    "# Close TraCI connection\n",
    "traci.close()\n",
    "\n",
    "for lane, unique_ids in unique_vehicle_ids_passed.items():\n",
    "    print(f\"Number of unique vehicles passing through lane '{lane}' after simulation:\", len(unique_ids))\n",
    "\n",
    "\n"
   ]
  },
  {
   "cell_type": "code",
   "execution_count": null,
   "id": "1886a4c6-1184-4022-b1eb-d281a7c55107",
   "metadata": {},
   "outputs": [],
   "source": [
    "\n",
    "traci.start([\"sumo\", \"-c\", \"~/Documents/frizer_street/SUMO_configuration.sumocfg\"])\n",
    "\n",
    "lanes_to_monitor = [\"9039_0\", \"-9045_1\", \"-9045_0\", \"9044_0\", \"-9044_0\", \"-9052_0\", \"-9052_1\", \"9045_0\", \"9045_1\"]\n",
    "\n",
    "vehicles_in_lane = {lane: set() for lane in lanes_to_monitor}\n",
    "\n",
    "step = 0\n",
    "while step < 30000:\n",
    "    traci.simulationStep()\n",
    "\n",
    "    for lane in lanes_to_monitor:\n",
    "        vehicles = traci.lane.getLastStepVehicleIDs(lane)\n",
    "        vehicles_in_lane[lane].update(vehicles)\n",
    "\n",
    "    # Your simulation logic here\n",
    "    step += 1\n",
    "\n",
    "# Close TraCI connection\n",
    "traci.close()\n",
    "\n",
    "# Print the number of unique vehicles passing through each lane after simulation\n",
    "for lane, vehicles in vehicles_in_lane.items():\n",
    "    print(f\"Number of unique vehicles passing through lane '{lane}' after simulation:\", len(vehicles))\n"
   ]
  },
  {
   "cell_type": "code",
   "execution_count": 13,
   "id": "ca260e93-0e97-4627-a7c1-42313e83879c",
   "metadata": {},
   "outputs": [
    {
     "name": "stdout",
     "output_type": "stream",
     "text": [
      " Retrying in 1 seconds\n",
      "Step #40000.00 (0ms ?*RT. ?UPS, TraCI: 1ms, vehicles TOT 16296 ACT 0 BUF 0)               tep #4500.00 (2ms ~= 500.00*RT, ~123000.00UPS, TraCI: 1ms, vehicles TOT 2893 ACT 246 BUF ep #9000.00 (4ms ~= 250.00*RT, ~103000.00UPS, TraCI: 2ms, vehicles TOT 5185 ACT 412 BUF p #13500.00 (3ms ~= 333.33*RT, ~132000.00UPS, TraCI: 1ms, vehicles TOT 6932 ACT 396 BUF #18000.00 (3ms ~= 333.33*RT, ~116333.33UPS, TraCI: 2ms, vehicles TOT 8566 ACT 349 BUF#22500.00 (3ms ~= 333.33*RT, ~96666.67UPS, TraCI: 1ms, vehicles TOT 10036 ACT 290 BUF27000.00 (2ms ~= 500.00*RT, ~109000.00UPS, TraCI: 2ms, vehicles TOT 11285 ACT 218 BU1500.00 (2ms ~= 500.00*RT, ~51000.00UPS, TraCI: 1ms, vehicles TOT 13753 ACT 102 BUF000.00 (1ms ~= 1000.00*RT, ~19000.00UPS, TraCI: 0ms, vehicles TOT 15919 ACT 19 BUF\n",
      "Number of unique vehicles passing through edge '9052' after simulation: 4957\n",
      "Number of unique vehicles passing through edge '9034' after simulation: 119\n",
      "Number of unique vehicles passing through edge '9040' after simulation: 5027\n",
      "Number of unique vehicles passing through edge '-9045' after simulation: 8471\n",
      "Number of unique vehicles passing through edge '9069' after simulation: 4938\n",
      "Number of unique vehicles passing through edge '9089' after simulation: 667\n",
      "Number of unique vehicles passing through edge '9039' after simulation: 164\n",
      "Number of unique vehicles passing through edge '-9040' after simulation: 6720\n"
     ]
    }
   ],
   "source": [
    "traci.start([\"sumo\", \"-c\", \"~/Documents/frizer_street/SUMO_configuration.sumocfg\"])\n",
    "\n",
    "edges_to_monitor = [\"9052\", \"9034\", \"9040\", \"-9045\", \"9052\", \"9069\", \"9089\", \"9039\",\"-9040\"]\n",
    "\n",
    "# Dictionary to store the set of unique vehicle IDs passing through each edge\n",
    "unique_vehicles_on_edge = {edge: set() for edge in edges_to_monitor}\n",
    "\n",
    "simulation_duration = 40000  # Adjust as needed\n",
    "for _ in range(simulation_duration):\n",
    "    traci.simulationStep()\n",
    "\n",
    "    # Check vehicles passing through each edge\n",
    "    for edge in edges_to_monitor:\n",
    "        vehicles = traci.edge.getLastStepVehicleIDs(edge)\n",
    "        unique_vehicles_on_edge[edge].update(vehicles)\n",
    "\n",
    "traci.close()\n",
    "\n",
    "for edge, vehicles in unique_vehicles_on_edge.items():\n",
    "    print(f\"Number of unique vehicles passing through edge '{edge}' after simulation:\", len(vehicles))\n"
   ]
  },
  {
   "cell_type": "code",
   "execution_count": 50,
   "id": "d421c968-c68a-489f-a1dd-54d76eb59486",
   "metadata": {},
   "outputs": [
    {
     "name": "stdout",
     "output_type": "stream",
     "text": [
      "Step #0.00 (0ms ?*RT. ?UPS, TraCI: 327694ms, vehicles TOT 0 ACT 0 BUF 0)                 \n",
      " Retrying in 1 seconds\n",
      "Step #30000.00 (0ms ?*RT. ?UPS, TraCI: 0ms, vehicles TOT 126 ACT 19 BUF 1887)             tep #4500.00 (1ms ~= 1000.00*RT, ~19000.00UPS, TraCI: 0ms, vehicles TOT 43 ACT 19 BUF 197ep #9000.00 (0ms ?*RT. ?UPS, TraCI: 0ms, vehicles TOT 58 ACT 19 BUF 1955)               p #13500.00 (0ms ?*RT. ?UPS, TraCI: 1ms, vehicles TOT 72 ACT 19 BUF 1941)               #18000.00 (0ms ?*RT. ?UPS, TraCI: 0ms, vehicles TOT 87 ACT 19 BUF 1926)              #22500.00 (0ms ?*RT. ?UPS, TraCI: 0ms, vehicles TOT 102 ACT 19 BUF 1911)             27000.00 (0ms ?*RT. ?UPS, TraCI: 0ms, vehicles TOT 117 ACT 19 BUF 1896)             \n"
     ]
    }
   ],
   "source": [
    "traci.close()\n",
    "\n",
    "# Connect to SUMO simulation\n",
    "traci.start([\"sumo\", \"-c\", \"~/Documents/frizer_street/SUMO_configuration.sumocfg\"])\n",
    "\n",
    "# Simulation loop\n",
    "simulation_duration = 30000  # Adjust as needed\n",
    "for _ in range(simulation_duration):\n",
    "    traci.simulationStep()\n",
    "\n",
    "    # Your simulation logic here\n",
    "\n",
    "    # Add vehicles after certain steps\n",
    "    if _ == 1000:  # Add vehicles after 1000 simulation steps\n",
    "        for i in range(1, 2001):\n",
    "            vehicle_id = f\"new_{i}\"\n",
    "            start_edge = \"-14373\"  # Adjust with your start edge\n",
    "            end_edge = \"-2080\"  # Adjust with your end edge\n",
    "\n",
    "            # Add route using TraCI route API\n",
    "            traci.route.add(f\"trip_{i}\", [start_edge, end_edge])\n",
    "\n",
    "            # Add vehicle with rerouting type\n",
    "            traci.vehicle.add(vehicle_id, f\"trip_{i}\", typeID=\"reroutingType\")\n",
    "\n",
    "# Close TraCI connection\n",
    "traci.close() "
   ]
  },
  {
   "cell_type": "code",
   "execution_count": 60,
   "id": "1394a0c9-fb89-4d0a-92e9-687fe67fda2e",
   "metadata": {},
   "outputs": [
    {
     "name": "stdout",
     "output_type": "stream",
     "text": [
      " Retrying in 1 seconds\n",
      "Interrupt signal received, trying to exit gracefully.ms, vehicles TOT 40 ACT 19 BUF 599972\n"
     ]
    },
    {
     "ename": "KeyboardInterrupt",
     "evalue": "",
     "output_type": "error",
     "traceback": [
      "\u001b[0;31m---------------------------------------------------------------------------\u001b[0m",
      "\u001b[0;31mKeyboardInterrupt\u001b[0m                         Traceback (most recent call last)",
      "Cell \u001b[0;32mIn[60], line 21\u001b[0m\n\u001b[1;32m     18\u001b[0m traci\u001b[38;5;241m.\u001b[39mroute\u001b[38;5;241m.\u001b[39madd(route_id, [start_edge, end_edge])\n\u001b[1;32m     20\u001b[0m \u001b[38;5;28;01mfor\u001b[39;00m step \u001b[38;5;129;01min\u001b[39;00m \u001b[38;5;28mrange\u001b[39m(simulation_duration):\n\u001b[0;32m---> 21\u001b[0m     \u001b[43mtraci\u001b[49m\u001b[38;5;241;43m.\u001b[39;49m\u001b[43msimulationStep\u001b[49m\u001b[43m(\u001b[49m\u001b[43m)\u001b[49m\n\u001b[1;32m     23\u001b[0m     \u001b[38;5;66;03m# Add 1000 vehicles every 5 seconds\u001b[39;00m\n\u001b[1;32m     24\u001b[0m     \u001b[38;5;28;01mif\u001b[39;00m step \u001b[38;5;241m%\u001b[39m \u001b[38;5;241m5\u001b[39m \u001b[38;5;241m==\u001b[39m \u001b[38;5;241m0\u001b[39m:\n",
      "File \u001b[0;32m~/.local/lib/python3.10/site-packages/traci/main.py:198\u001b[0m, in \u001b[0;36msimulationStep\u001b[0;34m(step)\u001b[0m\n\u001b[1;32m    192\u001b[0m \u001b[38;5;28;01mdef\u001b[39;00m \u001b[38;5;21msimulationStep\u001b[39m(step\u001b[38;5;241m=\u001b[39m\u001b[38;5;241m0\u001b[39m):\n\u001b[1;32m    193\u001b[0m \u001b[38;5;250m    \u001b[39m\u001b[38;5;124;03m\"\"\"simulationStep(float) -> None\u001b[39;00m\n\u001b[1;32m    194\u001b[0m \u001b[38;5;124;03m    Make a simulation step and simulate up to the given second in sim time.\u001b[39;00m\n\u001b[1;32m    195\u001b[0m \u001b[38;5;124;03m    If the given value is 0 or absent, exactly one step is performed.\u001b[39;00m\n\u001b[1;32m    196\u001b[0m \u001b[38;5;124;03m    Values smaller than or equal to the current sim time result in no action.\u001b[39;00m\n\u001b[1;32m    197\u001b[0m \u001b[38;5;124;03m    \"\"\"\u001b[39;00m\n\u001b[0;32m--> 198\u001b[0m     \u001b[43mconnection\u001b[49m\u001b[38;5;241;43m.\u001b[39;49m\u001b[43mcheck\u001b[49m\u001b[43m(\u001b[49m\u001b[43m)\u001b[49m\u001b[38;5;241;43m.\u001b[39;49m\u001b[43msimulationStep\u001b[49m\u001b[43m(\u001b[49m\u001b[43mstep\u001b[49m\u001b[43m)\u001b[49m\n",
      "File \u001b[0;32m~/.local/lib/python3.10/site-packages/traci/connection.py:368\u001b[0m, in \u001b[0;36mConnection.simulationStep\u001b[0;34m(self, step)\u001b[0m\n\u001b[1;32m    366\u001b[0m \u001b[38;5;28;01mif\u001b[39;00m \u001b[38;5;28mtype\u001b[39m(step) \u001b[38;5;129;01mis\u001b[39;00m \u001b[38;5;28mint\u001b[39m \u001b[38;5;129;01mand\u001b[39;00m step \u001b[38;5;241m>\u001b[39m\u001b[38;5;241m=\u001b[39m \u001b[38;5;241m1000\u001b[39m:\n\u001b[1;32m    367\u001b[0m     warnings\u001b[38;5;241m.\u001b[39mwarn(\u001b[38;5;124m\"\u001b[39m\u001b[38;5;124mAPI change now handles step as floating point seconds\u001b[39m\u001b[38;5;124m\"\u001b[39m, stacklevel\u001b[38;5;241m=\u001b[39m\u001b[38;5;241m2\u001b[39m)\n\u001b[0;32m--> 368\u001b[0m result \u001b[38;5;241m=\u001b[39m \u001b[38;5;28;43mself\u001b[39;49m\u001b[38;5;241;43m.\u001b[39;49m\u001b[43m_sendCmd\u001b[49m\u001b[43m(\u001b[49m\u001b[43mtc\u001b[49m\u001b[38;5;241;43m.\u001b[39;49m\u001b[43mCMD_SIMSTEP\u001b[49m\u001b[43m,\u001b[49m\u001b[43m \u001b[49m\u001b[38;5;28;43;01mNone\u001b[39;49;00m\u001b[43m,\u001b[49m\u001b[43m \u001b[49m\u001b[38;5;28;43;01mNone\u001b[39;49;00m\u001b[43m,\u001b[49m\u001b[43m \u001b[49m\u001b[38;5;124;43m\"\u001b[39;49m\u001b[38;5;124;43mD\u001b[39;49m\u001b[38;5;124;43m\"\u001b[39;49m\u001b[43m,\u001b[49m\u001b[43m \u001b[49m\u001b[43mstep\u001b[49m\u001b[43m)\u001b[49m\n\u001b[1;32m    369\u001b[0m \u001b[38;5;28;01mfor\u001b[39;00m subscriptionResults \u001b[38;5;129;01min\u001b[39;00m \u001b[38;5;28mself\u001b[39m\u001b[38;5;241m.\u001b[39m_subscriptionMapping\u001b[38;5;241m.\u001b[39mvalues():\n\u001b[1;32m    370\u001b[0m     subscriptionResults\u001b[38;5;241m.\u001b[39mreset()\n",
      "File \u001b[0;32m~/.local/lib/python3.10/site-packages/traci/connection.py:231\u001b[0m, in \u001b[0;36mConnection._sendCmd\u001b[0;34m(self, cmdID, varID, objID, format, *values)\u001b[0m\n\u001b[1;32m    229\u001b[0m     \u001b[38;5;28mself\u001b[39m\u001b[38;5;241m.\u001b[39m_string \u001b[38;5;241m+\u001b[39m\u001b[38;5;241m=\u001b[39m struct\u001b[38;5;241m.\u001b[39mpack(\u001b[38;5;124m\"\u001b[39m\u001b[38;5;124m!i\u001b[39m\u001b[38;5;124m\"\u001b[39m, \u001b[38;5;28mlen\u001b[39m(objID)) \u001b[38;5;241m+\u001b[39m objID\n\u001b[1;32m    230\u001b[0m \u001b[38;5;28mself\u001b[39m\u001b[38;5;241m.\u001b[39m_string \u001b[38;5;241m+\u001b[39m\u001b[38;5;241m=\u001b[39m packed\n\u001b[0;32m--> 231\u001b[0m \u001b[38;5;28;01mreturn\u001b[39;00m \u001b[38;5;28;43mself\u001b[39;49m\u001b[38;5;241;43m.\u001b[39;49m\u001b[43m_sendExact\u001b[49m\u001b[43m(\u001b[49m\u001b[43m)\u001b[49m\n",
      "File \u001b[0;32m~/.local/lib/python3.10/site-packages/traci/connection.py:131\u001b[0m, in \u001b[0;36mConnection._sendExact\u001b[0;34m(self)\u001b[0m\n\u001b[1;32m    129\u001b[0m     \u001b[38;5;28mprint\u001b[39m(\u001b[38;5;124m\"\u001b[39m\u001b[38;5;124msending\u001b[39m\u001b[38;5;124m\"\u001b[39m, Storage(length \u001b[38;5;241m+\u001b[39m \u001b[38;5;28mself\u001b[39m\u001b[38;5;241m.\u001b[39m_string)\u001b[38;5;241m.\u001b[39mgetDebugString())\n\u001b[1;32m    130\u001b[0m \u001b[38;5;28mself\u001b[39m\u001b[38;5;241m.\u001b[39m_socket\u001b[38;5;241m.\u001b[39msend(length \u001b[38;5;241m+\u001b[39m \u001b[38;5;28mself\u001b[39m\u001b[38;5;241m.\u001b[39m_string)\n\u001b[0;32m--> 131\u001b[0m result \u001b[38;5;241m=\u001b[39m \u001b[38;5;28;43mself\u001b[39;49m\u001b[38;5;241;43m.\u001b[39;49m\u001b[43m_recvExact\u001b[49m\u001b[43m(\u001b[49m\u001b[43m)\u001b[49m\n\u001b[1;32m    132\u001b[0m \u001b[38;5;28;01mif\u001b[39;00m _DEBUG:\n\u001b[1;32m    133\u001b[0m     \u001b[38;5;28mprint\u001b[39m(\u001b[38;5;124m\"\u001b[39m\u001b[38;5;124mreceiving\u001b[39m\u001b[38;5;124m\"\u001b[39m, result\u001b[38;5;241m.\u001b[39mgetDebugString())\n",
      "File \u001b[0;32m~/.local/lib/python3.10/site-packages/traci/connection.py:109\u001b[0m, in \u001b[0;36mConnection._recvExact\u001b[0;34m(self)\u001b[0m\n\u001b[1;32m    107\u001b[0m result \u001b[38;5;241m=\u001b[39m \u001b[38;5;28mbytes\u001b[39m()\n\u001b[1;32m    108\u001b[0m \u001b[38;5;28;01mwhile\u001b[39;00m \u001b[38;5;28mlen\u001b[39m(result) \u001b[38;5;241m<\u001b[39m \u001b[38;5;241m4\u001b[39m:\n\u001b[0;32m--> 109\u001b[0m     t \u001b[38;5;241m=\u001b[39m \u001b[38;5;28;43mself\u001b[39;49m\u001b[38;5;241;43m.\u001b[39;49m\u001b[43m_socket\u001b[49m\u001b[38;5;241;43m.\u001b[39;49m\u001b[43mrecv\u001b[49m\u001b[43m(\u001b[49m\u001b[38;5;241;43m4\u001b[39;49m\u001b[43m \u001b[49m\u001b[38;5;241;43m-\u001b[39;49m\u001b[43m \u001b[49m\u001b[38;5;28;43mlen\u001b[39;49m\u001b[43m(\u001b[49m\u001b[43mresult\u001b[49m\u001b[43m)\u001b[49m\u001b[43m)\u001b[49m\n\u001b[1;32m    110\u001b[0m     \u001b[38;5;28;01mif\u001b[39;00m \u001b[38;5;129;01mnot\u001b[39;00m t:\n\u001b[1;32m    111\u001b[0m         \u001b[38;5;28;01mreturn\u001b[39;00m \u001b[38;5;28;01mNone\u001b[39;00m\n",
      "\u001b[0;31mKeyboardInterrupt\u001b[0m: "
     ]
    }
   ],
   "source": [
    "import random\n",
    "\n",
    "traci.start([\"sumo\", \"-c\", \"~/Documents/frizer_street/SUMO_configuration.sumocfg\"])\n",
    "\n",
    "edges_to_monitor = [\"9052\", \"9034\", \"9040\", \"9045\", \"9052\", \"9069\", \"9089\", \"9039\",\"-9040\"]\n",
    "\n",
    "# Dictionary to store the set of unique vehicle IDs passing through each edge\n",
    "unique_vehicles_on_edge = {edge: set() for edge in edges_to_monitor}\n",
    "\n",
    "simulation_duration = 40000  # Adjust as needed\n",
    "vehicle_id = 13  # Start vehicle IDs from 13\n",
    "\n",
    "start_edge = \"-14373\"  # Adjust with your start edge\n",
    "end_edge = \"-2080\"  # Adjust with your end edge\n",
    "\n",
    "# Define a route for the vehicles\n",
    "route_id = \"route0\"\n",
    "traci.route.add(route_id, [start_edge, end_edge])\n",
    "\n",
    "for step in range(simulation_duration):\n",
    "    traci.simulationStep()\n",
    "\n",
    "    # Add 1000 vehicles every 5 seconds\n",
    "    if step % 5 == 0:\n",
    "        for _ in range(1000):\n",
    "            traci.vehicle.add(str(vehicle_id), route_id)\n",
    "            vehicle_id += 1\n",
    "\n",
    "    # Check vehicles passing through each edge\n",
    "    for edge in edges_to_monitor:\n",
    "        vehicles = traci.edge.getLastStepVehicleIDs(edge)\n",
    "        unique_vehicles_on_edge[edge].update(vehicles)\n",
    "\n",
    "traci.close()\n",
    "\n",
    "for edge, vehicles in unique_vehicles_on_edge.items():\n",
    "    print(f\"Number of unique vehicles passing through edge '{edge}' after simulation:\", len(vehicles))\n",
    "\n",
    "\n"
   ]
  },
  {
   "cell_type": "code",
   "execution_count": 4,
   "id": "1c072c15-69d9-4a6c-9642-5210cfbab9e9",
   "metadata": {},
   "outputs": [
    {
     "name": "stdout",
     "output_type": "stream",
     "text": [
      " Retrying in 1 seconds\n",
      "Interrupt signal received, trying to exit gracefully.s, vehicles TOT 61 ACT 19 BUF 1779952tep #4500.00 (248ms ~= 4.03*RT, ~76.61UPS, TraCI: 1ms, vehicles TOT 46 ACT 19 BUF 899967)ep #9000.00 (545ms ~= 1.83*RT, ~34.86UPS, TraCI: 1ms, vehicles TOT 61 ACT 19 BUF 1799952\n"
     ]
    },
    {
     "ename": "KeyboardInterrupt",
     "evalue": "",
     "output_type": "error",
     "traceback": [
      "\u001b[0;31m---------------------------------------------------------------------------\u001b[0m",
      "\u001b[0;31mKeyboardInterrupt\u001b[0m                         Traceback (most recent call last)",
      "Cell \u001b[0;32mIn[4], line 21\u001b[0m\n\u001b[1;32m     18\u001b[0m traci\u001b[38;5;241m.\u001b[39mroute\u001b[38;5;241m.\u001b[39madd(route_id, [start_edge, end_edge])\n\u001b[1;32m     20\u001b[0m \u001b[38;5;28;01mfor\u001b[39;00m step \u001b[38;5;129;01min\u001b[39;00m \u001b[38;5;28mrange\u001b[39m(simulation_duration):\n\u001b[0;32m---> 21\u001b[0m     \u001b[43mtraci\u001b[49m\u001b[38;5;241;43m.\u001b[39;49m\u001b[43msimulationStep\u001b[49m\u001b[43m(\u001b[49m\u001b[43m)\u001b[49m\n\u001b[1;32m     23\u001b[0m     \u001b[38;5;66;03m# Add 1000 vehicles every 5 seconds\u001b[39;00m\n\u001b[1;32m     24\u001b[0m     \u001b[38;5;28;01mif\u001b[39;00m step \u001b[38;5;241m%\u001b[39m \u001b[38;5;241m5\u001b[39m \u001b[38;5;241m==\u001b[39m \u001b[38;5;241m0\u001b[39m:\n",
      "File \u001b[0;32m~/.local/lib/python3.10/site-packages/traci/main.py:198\u001b[0m, in \u001b[0;36msimulationStep\u001b[0;34m(step)\u001b[0m\n\u001b[1;32m    192\u001b[0m \u001b[38;5;28;01mdef\u001b[39;00m \u001b[38;5;21msimulationStep\u001b[39m(step\u001b[38;5;241m=\u001b[39m\u001b[38;5;241m0\u001b[39m):\n\u001b[1;32m    193\u001b[0m \u001b[38;5;250m    \u001b[39m\u001b[38;5;124;03m\"\"\"simulationStep(float) -> None\u001b[39;00m\n\u001b[1;32m    194\u001b[0m \u001b[38;5;124;03m    Make a simulation step and simulate up to the given second in sim time.\u001b[39;00m\n\u001b[1;32m    195\u001b[0m \u001b[38;5;124;03m    If the given value is 0 or absent, exactly one step is performed.\u001b[39;00m\n\u001b[1;32m    196\u001b[0m \u001b[38;5;124;03m    Values smaller than or equal to the current sim time result in no action.\u001b[39;00m\n\u001b[1;32m    197\u001b[0m \u001b[38;5;124;03m    \"\"\"\u001b[39;00m\n\u001b[0;32m--> 198\u001b[0m     \u001b[43mconnection\u001b[49m\u001b[38;5;241;43m.\u001b[39;49m\u001b[43mcheck\u001b[49m\u001b[43m(\u001b[49m\u001b[43m)\u001b[49m\u001b[38;5;241;43m.\u001b[39;49m\u001b[43msimulationStep\u001b[49m\u001b[43m(\u001b[49m\u001b[43mstep\u001b[49m\u001b[43m)\u001b[49m\n",
      "File \u001b[0;32m~/.local/lib/python3.10/site-packages/traci/connection.py:368\u001b[0m, in \u001b[0;36mConnection.simulationStep\u001b[0;34m(self, step)\u001b[0m\n\u001b[1;32m    366\u001b[0m \u001b[38;5;28;01mif\u001b[39;00m \u001b[38;5;28mtype\u001b[39m(step) \u001b[38;5;129;01mis\u001b[39;00m \u001b[38;5;28mint\u001b[39m \u001b[38;5;129;01mand\u001b[39;00m step \u001b[38;5;241m>\u001b[39m\u001b[38;5;241m=\u001b[39m \u001b[38;5;241m1000\u001b[39m:\n\u001b[1;32m    367\u001b[0m     warnings\u001b[38;5;241m.\u001b[39mwarn(\u001b[38;5;124m\"\u001b[39m\u001b[38;5;124mAPI change now handles step as floating point seconds\u001b[39m\u001b[38;5;124m\"\u001b[39m, stacklevel\u001b[38;5;241m=\u001b[39m\u001b[38;5;241m2\u001b[39m)\n\u001b[0;32m--> 368\u001b[0m result \u001b[38;5;241m=\u001b[39m \u001b[38;5;28;43mself\u001b[39;49m\u001b[38;5;241;43m.\u001b[39;49m\u001b[43m_sendCmd\u001b[49m\u001b[43m(\u001b[49m\u001b[43mtc\u001b[49m\u001b[38;5;241;43m.\u001b[39;49m\u001b[43mCMD_SIMSTEP\u001b[49m\u001b[43m,\u001b[49m\u001b[43m \u001b[49m\u001b[38;5;28;43;01mNone\u001b[39;49;00m\u001b[43m,\u001b[49m\u001b[43m \u001b[49m\u001b[38;5;28;43;01mNone\u001b[39;49;00m\u001b[43m,\u001b[49m\u001b[43m \u001b[49m\u001b[38;5;124;43m\"\u001b[39;49m\u001b[38;5;124;43mD\u001b[39;49m\u001b[38;5;124;43m\"\u001b[39;49m\u001b[43m,\u001b[49m\u001b[43m \u001b[49m\u001b[43mstep\u001b[49m\u001b[43m)\u001b[49m\n\u001b[1;32m    369\u001b[0m \u001b[38;5;28;01mfor\u001b[39;00m subscriptionResults \u001b[38;5;129;01min\u001b[39;00m \u001b[38;5;28mself\u001b[39m\u001b[38;5;241m.\u001b[39m_subscriptionMapping\u001b[38;5;241m.\u001b[39mvalues():\n\u001b[1;32m    370\u001b[0m     subscriptionResults\u001b[38;5;241m.\u001b[39mreset()\n",
      "File \u001b[0;32m~/.local/lib/python3.10/site-packages/traci/connection.py:231\u001b[0m, in \u001b[0;36mConnection._sendCmd\u001b[0;34m(self, cmdID, varID, objID, format, *values)\u001b[0m\n\u001b[1;32m    229\u001b[0m     \u001b[38;5;28mself\u001b[39m\u001b[38;5;241m.\u001b[39m_string \u001b[38;5;241m+\u001b[39m\u001b[38;5;241m=\u001b[39m struct\u001b[38;5;241m.\u001b[39mpack(\u001b[38;5;124m\"\u001b[39m\u001b[38;5;124m!i\u001b[39m\u001b[38;5;124m\"\u001b[39m, \u001b[38;5;28mlen\u001b[39m(objID)) \u001b[38;5;241m+\u001b[39m objID\n\u001b[1;32m    230\u001b[0m \u001b[38;5;28mself\u001b[39m\u001b[38;5;241m.\u001b[39m_string \u001b[38;5;241m+\u001b[39m\u001b[38;5;241m=\u001b[39m packed\n\u001b[0;32m--> 231\u001b[0m \u001b[38;5;28;01mreturn\u001b[39;00m \u001b[38;5;28;43mself\u001b[39;49m\u001b[38;5;241;43m.\u001b[39;49m\u001b[43m_sendExact\u001b[49m\u001b[43m(\u001b[49m\u001b[43m)\u001b[49m\n",
      "File \u001b[0;32m~/.local/lib/python3.10/site-packages/traci/connection.py:131\u001b[0m, in \u001b[0;36mConnection._sendExact\u001b[0;34m(self)\u001b[0m\n\u001b[1;32m    129\u001b[0m     \u001b[38;5;28mprint\u001b[39m(\u001b[38;5;124m\"\u001b[39m\u001b[38;5;124msending\u001b[39m\u001b[38;5;124m\"\u001b[39m, Storage(length \u001b[38;5;241m+\u001b[39m \u001b[38;5;28mself\u001b[39m\u001b[38;5;241m.\u001b[39m_string)\u001b[38;5;241m.\u001b[39mgetDebugString())\n\u001b[1;32m    130\u001b[0m \u001b[38;5;28mself\u001b[39m\u001b[38;5;241m.\u001b[39m_socket\u001b[38;5;241m.\u001b[39msend(length \u001b[38;5;241m+\u001b[39m \u001b[38;5;28mself\u001b[39m\u001b[38;5;241m.\u001b[39m_string)\n\u001b[0;32m--> 131\u001b[0m result \u001b[38;5;241m=\u001b[39m \u001b[38;5;28;43mself\u001b[39;49m\u001b[38;5;241;43m.\u001b[39;49m\u001b[43m_recvExact\u001b[49m\u001b[43m(\u001b[49m\u001b[43m)\u001b[49m\n\u001b[1;32m    132\u001b[0m \u001b[38;5;28;01mif\u001b[39;00m _DEBUG:\n\u001b[1;32m    133\u001b[0m     \u001b[38;5;28mprint\u001b[39m(\u001b[38;5;124m\"\u001b[39m\u001b[38;5;124mreceiving\u001b[39m\u001b[38;5;124m\"\u001b[39m, result\u001b[38;5;241m.\u001b[39mgetDebugString())\n",
      "File \u001b[0;32m~/.local/lib/python3.10/site-packages/traci/connection.py:109\u001b[0m, in \u001b[0;36mConnection._recvExact\u001b[0;34m(self)\u001b[0m\n\u001b[1;32m    107\u001b[0m result \u001b[38;5;241m=\u001b[39m \u001b[38;5;28mbytes\u001b[39m()\n\u001b[1;32m    108\u001b[0m \u001b[38;5;28;01mwhile\u001b[39;00m \u001b[38;5;28mlen\u001b[39m(result) \u001b[38;5;241m<\u001b[39m \u001b[38;5;241m4\u001b[39m:\n\u001b[0;32m--> 109\u001b[0m     t \u001b[38;5;241m=\u001b[39m \u001b[38;5;28;43mself\u001b[39;49m\u001b[38;5;241;43m.\u001b[39;49m\u001b[43m_socket\u001b[49m\u001b[38;5;241;43m.\u001b[39;49m\u001b[43mrecv\u001b[49m\u001b[43m(\u001b[49m\u001b[38;5;241;43m4\u001b[39;49m\u001b[43m \u001b[49m\u001b[38;5;241;43m-\u001b[39;49m\u001b[43m \u001b[49m\u001b[38;5;28;43mlen\u001b[39;49m\u001b[43m(\u001b[49m\u001b[43mresult\u001b[49m\u001b[43m)\u001b[49m\u001b[43m)\u001b[49m\n\u001b[1;32m    110\u001b[0m     \u001b[38;5;28;01mif\u001b[39;00m \u001b[38;5;129;01mnot\u001b[39;00m t:\n\u001b[1;32m    111\u001b[0m         \u001b[38;5;28;01mreturn\u001b[39;00m \u001b[38;5;28;01mNone\u001b[39;00m\n",
      "\u001b[0;31mKeyboardInterrupt\u001b[0m: "
     ]
    },
    {
     "name": "stdout",
     "output_type": "stream",
     "text": [
      "Another interrupt signal received, hard exit.\n"
     ]
    }
   ],
   "source": [
    "import random\n",
    "\n",
    "traci.start([\"sumo\", \"-c\", \"~/Documents/frizer_street/SUMO_configuration.sumocfg\"])\n",
    "\n",
    "edges_to_monitor = [\"9052\", \"9034\", \"9040\", \"9045\", \"9052\", \"9069\", \"9089\", \"9039\",\"-9040\"]\n",
    "\n",
    "# Dictionary to store the set of unique vehicle IDs passing through each edge\n",
    "unique_vehicles_on_edge = {edge: set() for edge in edges_to_monitor}\n",
    "\n",
    "simulation_duration = 40000  # Adjust as needed\n",
    "vehicle_id = 13  # Start vehicle IDs from 13\n",
    "\n",
    "start_edge = \"-14373\"  # Adjust with your start edge\n",
    "end_edge = \"-2080\"  # Adjust with your end edge\n",
    "\n",
    "# Define a route for the vehicles\n",
    "route_id = \"trip\"\n",
    "traci.route.add(route_id, [start_edge, end_edge])\n",
    "\n",
    "for step in range(simulation_duration):\n",
    "    traci.simulationStep()\n",
    "\n",
    "    # Add 1000 vehicles every 5 seconds\n",
    "    if step % 5 == 0:\n",
    "        for _ in range(1000):\n",
    "            traci.vehicle.add(str(vehicle_id), route_id, typeID=\"reroutingType\")\n",
    "            vehicle_id += 1\n",
    "\n",
    "    # Check vehicles passing through each edge\n",
    "    for edge in edges_to_monitor:\n",
    "        vehicles = traci.edge.getLastStepVehicleIDs(edge)\n",
    "        unique_vehicles_on_edge[edge].update(vehicles)\n",
    "\n",
    "traci.close()\n",
    "\n",
    "for edge, vehicles in unique_vehicles_on_edge.items():\n",
    "    print(f\"Number of unique vehicles passing through edge '{edge}' after simulation:\", len(vehicles))\n"
   ]
  },
  {
   "cell_type": "code",
   "execution_count": null,
   "id": "4e223ca4-6735-49b7-ad35-2cdf5151f846",
   "metadata": {},
   "outputs": [],
   "source": []
  }
 ],
 "metadata": {
  "kernelspec": {
   "display_name": "Python 3 (ipykernel)",
   "language": "python",
   "name": "python3"
  },
  "language_info": {
   "codemirror_mode": {
    "name": "ipython",
    "version": 3
   },
   "file_extension": ".py",
   "mimetype": "text/x-python",
   "name": "python",
   "nbconvert_exporter": "python",
   "pygments_lexer": "ipython3",
   "version": "3.10.12"
  }
 },
 "nbformat": 4,
 "nbformat_minor": 5
}
